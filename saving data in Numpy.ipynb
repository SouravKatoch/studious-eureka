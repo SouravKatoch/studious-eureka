{
 "cells": [
  {
   "cell_type": "code",
   "execution_count": 2,
   "id": "7b58d65d",
   "metadata": {},
   "outputs": [],
   "source": [
    "import numpy as np"
   ]
  },
  {
   "cell_type": "code",
   "execution_count": 4,
   "id": "b28b3b1a",
   "metadata": {},
   "outputs": [],
   "source": [
    "lending_co= np.genfromtxt('C:/Users/acer/Desktop/My SQL/CSV files in pandas/Lending-company.csv',\n",
    "                          delimiter = \",\", dtype= str)"
   ]
  },
  {
   "cell_type": "markdown",
   "id": "a277be75",
   "metadata": {},
   "source": [
    "# np.save()"
   ]
  },
  {
   "cell_type": "code",
   "execution_count": 5,
   "id": "774732d8",
   "metadata": {},
   "outputs": [
    {
     "data": {
      "text/plain": [
       "array([['LoanID', 'StringID', 'Product', ..., 'AmtPaid60', 'AmtPaid360',\n",
       "        'LoanStatus'],\n",
       "       ['1', 'LoanID_1', 'Product B', ..., '4166', '14621', 'Active'],\n",
       "       ['2', 'LoanID_2', 'Product D', ..., '4096', '16041', 'Active'],\n",
       "       ...,\n",
       "       ['1041', 'LoanID_1041', 'Product A', ..., '5143', '16617',\n",
       "        'Finished Payment'],\n",
       "       ['1042', 'LoanID_1042', 'Product B', ..., '3462', '15617',\n",
       "        'Finished Payment'],\n",
       "       ['1043', 'LoanID_1043', 'Product A', ..., '4743', '16617',\n",
       "        'Finished Payment']], dtype='<U16')"
      ]
     },
     "execution_count": 5,
     "metadata": {},
     "output_type": "execute_result"
    }
   ],
   "source": [
    "lending_co"
   ]
  },
  {
   "cell_type": "code",
   "execution_count": 21,
   "id": "df6575fb",
   "metadata": {},
   "outputs": [],
   "source": [
    "np.save(\"Lending-Company-Saving\", lending_co)"
   ]
  },
  {
   "cell_type": "code",
   "execution_count": 23,
   "id": "ebf54c39",
   "metadata": {},
   "outputs": [],
   "source": [
    "lending_data_save= np.load(\"Lending-Company-Saving.npy\")"
   ]
  },
  {
   "cell_type": "code",
   "execution_count": 16,
   "id": "912b20d7",
   "metadata": {},
   "outputs": [
    {
     "data": {
      "text/plain": [
       "array([['LoanID', 'StringID', 'Product', ..., 'AmtPaid60', 'AmtPaid360',\n",
       "        'LoanStatus'],\n",
       "       ['1', 'LoanID_1', 'Product B', ..., '4166', '14621', 'Active'],\n",
       "       ['2', 'LoanID_2', 'Product D', ..., '4096', '16041', 'Active'],\n",
       "       ...,\n",
       "       ['1041', 'LoanID_1041', 'Product A', ..., '5143', '16617',\n",
       "        'Finished Payment'],\n",
       "       ['1042', 'LoanID_1042', 'Product B', ..., '3462', '15617',\n",
       "        'Finished Payment'],\n",
       "       ['1043', 'LoanID_1043', 'Product A', ..., '4743', '16617',\n",
       "        'Finished Payment']], dtype='<U16')"
      ]
     },
     "execution_count": 16,
     "metadata": {},
     "output_type": "execute_result"
    }
   ],
   "source": [
    "lending_data_save"
   ]
  },
  {
   "cell_type": "code",
   "execution_count": 18,
   "id": "0c8c6f50",
   "metadata": {},
   "outputs": [
    {
     "data": {
      "text/plain": [
       "True"
      ]
     },
     "execution_count": 18,
     "metadata": {},
     "output_type": "execute_result"
    }
   ],
   "source": [
    "np.array_equal(lending_co, lending_data_save)"
   ]
  },
  {
   "cell_type": "markdown",
   "id": "0ca48c03",
   "metadata": {},
   "source": [
    "# npsavez()"
   ]
  },
  {
   "cell_type": "code",
   "execution_count": 29,
   "id": "3b20684b",
   "metadata": {},
   "outputs": [],
   "source": [
    "lending_co= np.genfromtxt('C:/Users/acer/Desktop/My SQL/CSV files in pandas/Lending-company.csv',\n",
    "                          delimiter = \",\", dtype= str)\n",
    "lending_data_save= np.load(\"Lending-Company-Saving.npy\")\n"
   ]
  },
  {
   "cell_type": "code",
   "execution_count": 30,
   "id": "362a126c",
   "metadata": {},
   "outputs": [],
   "source": [
    "np.savez(\"Lending-Company-Saving\", lending_co, lending_data_save)"
   ]
  },
  {
   "cell_type": "code",
   "execution_count": 31,
   "id": "90ada951",
   "metadata": {},
   "outputs": [],
   "source": [
    "lending_data_savez =np.load('Lending-Company-Saving.npz')"
   ]
  },
  {
   "cell_type": "code",
   "execution_count": 35,
   "id": "c8934878",
   "metadata": {},
   "outputs": [
    {
     "name": "stdout",
     "output_type": "stream",
     "text": [
      "[['LoanID' 'StringID' 'Product' ... 'AmtPaid60' 'AmtPaid360' 'LoanStatus']\n",
      " ['1' 'LoanID_1' 'Product B' ... '4166' '14621' 'Active']\n",
      " ['2' 'LoanID_2' 'Product D' ... '4096' '16041' 'Active']\n",
      " ...\n",
      " ['1041' 'LoanID_1041' 'Product A' ... '5143' '16617' 'Finished Payment']\n",
      " ['1042' 'LoanID_1042' 'Product B' ... '3462' '15617' 'Finished Payment']\n",
      " ['1043' 'LoanID_1043' 'Product A' ... '4743' '16617' 'Finished Payment']]\n"
     ]
    }
   ],
   "source": [
    "print(lending_data_savez[\"arr_1\"])"
   ]
  },
  {
   "cell_type": "code",
   "execution_count": 36,
   "id": "cdc4ccf3",
   "metadata": {},
   "outputs": [],
   "source": [
    "np.savez(\"Lending-Company-Saving\", company = lending_co, data_save = lending_data_save)"
   ]
  },
  {
   "cell_type": "code",
   "execution_count": 37,
   "id": "5f1e758f",
   "metadata": {},
   "outputs": [],
   "source": [
    "lending_data_savez =np.load(\"Lending-Company-Saving.npz\")"
   ]
  },
  {
   "cell_type": "code",
   "execution_count": 38,
   "id": "ed46969e",
   "metadata": {},
   "outputs": [
    {
     "data": {
      "text/plain": [
       "['company', 'data_save']"
      ]
     },
     "execution_count": 38,
     "metadata": {},
     "output_type": "execute_result"
    }
   ],
   "source": [
    "lending_data_savez.files"
   ]
  },
  {
   "cell_type": "code",
   "execution_count": 40,
   "id": "f1c0de95",
   "metadata": {},
   "outputs": [
    {
     "name": "stdout",
     "output_type": "stream",
     "text": [
      "[['LoanID' 'StringID' 'Product' ... 'AmtPaid60' 'AmtPaid360' 'LoanStatus']\n",
      " ['1' 'LoanID_1' 'Product B' ... '4166' '14621' 'Active']\n",
      " ['2' 'LoanID_2' 'Product D' ... '4096' '16041' 'Active']\n",
      " ...\n",
      " ['1041' 'LoanID_1041' 'Product A' ... '5143' '16617' 'Finished Payment']\n",
      " ['1042' 'LoanID_1042' 'Product B' ... '3462' '15617' 'Finished Payment']\n",
      " ['1043' 'LoanID_1043' 'Product A' ... '4743' '16617' 'Finished Payment']]\n"
     ]
    }
   ],
   "source": [
    "print(lending_data_savez['data_save'])"
   ]
  },
  {
   "cell_type": "code",
   "execution_count": 41,
   "id": "e0cf6d37",
   "metadata": {},
   "outputs": [
    {
     "data": {
      "text/plain": [
       "True"
      ]
     },
     "execution_count": 41,
     "metadata": {},
     "output_type": "execute_result"
    }
   ],
   "source": [
    "np.array_equal(lending_data_savez['company'], lending_data_savez['data_save'])"
   ]
  },
  {
   "cell_type": "markdown",
   "id": "f8e88663",
   "metadata": {},
   "source": [
    "# np.savetxt()"
   ]
  },
  {
   "cell_type": "code",
   "execution_count": null,
   "id": "1864da14",
   "metadata": {},
   "outputs": [],
   "source": [
    "lending_co= np.genfromtxt('C:/Users/acer/Desktop/My SQL/CSV files in pandas/Lending-company.csv',\n",
    "                          delimiter = \",\", dtype= str)"
   ]
  },
  {
   "cell_type": "code",
   "execution_count": 44,
   "id": "442af4ba",
   "metadata": {},
   "outputs": [],
   "source": [
    "np.savetxt(\"Lending-Company-Saving.txt\", lending_co, fmt = '%s', delimiter =',')"
   ]
  },
  {
   "cell_type": "code",
   "execution_count": 45,
   "id": "ebdeb738",
   "metadata": {},
   "outputs": [
    {
     "name": "stdout",
     "output_type": "stream",
     "text": [
      "[['LoanID' 'StringID' 'Product' ... 'AmtPaid60' 'AmtPaid360' 'LoanStatus']\n",
      " ['1' 'LoanID_1' 'Product B' ... '4166' '14621' 'Active']\n",
      " ['2' 'LoanID_2' 'Product D' ... '4096' '16041' 'Active']\n",
      " ...\n",
      " ['1041' 'LoanID_1041' 'Product A' ... '5143' '16617' 'Finished Payment']\n",
      " ['1042' 'LoanID_1042' 'Product B' ... '3462' '15617' 'Finished Payment']\n",
      " ['1043' 'LoanID_1043' 'Product A' ... '4743' '16617' 'Finished Payment']]\n"
     ]
    }
   ],
   "source": [
    "lending_data_savetxt = np.genfromtxt('Lending-Company-Saving.txt', delimiter = ',', dtype= str)\n",
    "\n",
    "print(lending_data_savetxt)"
   ]
  },
  {
   "cell_type": "code",
   "execution_count": 46,
   "id": "f1646deb",
   "metadata": {},
   "outputs": [],
   "source": [
    "lending_data_save = np.load(\"Lending-Company-Saving.npy\")"
   ]
  },
  {
   "cell_type": "code",
   "execution_count": 47,
   "id": "d4f477a6",
   "metadata": {},
   "outputs": [
    {
     "data": {
      "text/plain": [
       "True"
      ]
     },
     "execution_count": 47,
     "metadata": {},
     "output_type": "execute_result"
    }
   ],
   "source": [
    "np.array_equal(lending_data_savetxt, lending_data_save)"
   ]
  },
  {
   "cell_type": "code",
   "execution_count": null,
   "id": "d549dcdf",
   "metadata": {},
   "outputs": [],
   "source": []
  },
  {
   "cell_type": "code",
   "execution_count": null,
   "id": "deed9875",
   "metadata": {},
   "outputs": [],
   "source": []
  },
  {
   "cell_type": "code",
   "execution_count": null,
   "id": "b03a4e1f",
   "metadata": {},
   "outputs": [],
   "source": []
  },
  {
   "cell_type": "code",
   "execution_count": null,
   "id": "022830e2",
   "metadata": {},
   "outputs": [],
   "source": []
  },
  {
   "cell_type": "code",
   "execution_count": null,
   "id": "6957712d",
   "metadata": {},
   "outputs": [],
   "source": []
  },
  {
   "cell_type": "code",
   "execution_count": null,
   "id": "cdc7ec6e",
   "metadata": {},
   "outputs": [],
   "source": []
  },
  {
   "cell_type": "code",
   "execution_count": null,
   "id": "57503b92",
   "metadata": {},
   "outputs": [],
   "source": []
  },
  {
   "cell_type": "code",
   "execution_count": null,
   "id": "92765489",
   "metadata": {},
   "outputs": [],
   "source": []
  }
 ],
 "metadata": {
  "kernelspec": {
   "display_name": "Python 3 (ipykernel)",
   "language": "python",
   "name": "python3"
  },
  "language_info": {
   "codemirror_mode": {
    "name": "ipython",
    "version": 3
   },
   "file_extension": ".py",
   "mimetype": "text/x-python",
   "name": "python",
   "nbconvert_exporter": "python",
   "pygments_lexer": "ipython3",
   "version": "3.10.9"
  }
 },
 "nbformat": 4,
 "nbformat_minor": 5
}
